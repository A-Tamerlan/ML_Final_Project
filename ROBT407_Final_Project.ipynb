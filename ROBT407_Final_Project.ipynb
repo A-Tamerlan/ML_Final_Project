{
  "nbformat": 4,
  "nbformat_minor": 0,
  "metadata": {
    "colab": {
      "provenance": [],
      "include_colab_link": true
    },
    "kernelspec": {
      "name": "python3",
      "display_name": "Python 3"
    },
    "language_info": {
      "name": "python"
    },
    "accelerator": "GPU"
  },
  "cells": [
    {
      "cell_type": "markdown",
      "metadata": {
        "id": "view-in-github",
        "colab_type": "text"
      },
      "source": [
        "<a href=\"https://colab.research.google.com/github/A-Tamerlan/ML_Final_Project/blob/main/%D0%9A%D0%BE%D0%BF%D0%B8%D1%8F_%D0%B1%D0%BB%D0%BE%D0%BA%D0%BD%D0%BE%D1%82%D0%B0_%22cats_v_dogs_classification_ipynb%22.ipynb\" target=\"_parent\"><img src=\"https://colab.research.google.com/assets/colab-badge.svg\" alt=\"Open In Colab\"/></a>"
      ]
    },
    {
      "cell_type": "markdown",
      "source": [
        "Firstly, upload the kaggle token and download the necessary competition to work on."
      ],
      "metadata": {
        "id": "6C7oROLcfsHI"
      }
    },
    {
      "cell_type": "code",
      "source": [
        "from google.colab import files\n",
        "files.upload()"
      ],
      "metadata": {
        "id": "BotxnIyP69Ns",
        "outputId": "38fbb14c-50b1-404a-a66c-4b6f834022e4",
        "colab": {
          "base_uri": "https://localhost:8080/",
          "height": 90
        }
      },
      "execution_count": 4,
      "outputs": [
        {
          "output_type": "display_data",
          "data": {
            "text/plain": [
              "<IPython.core.display.HTML object>"
            ],
            "text/html": [
              "\n",
              "     <input type=\"file\" id=\"files-994da238-b182-465d-b3fa-72850c11d4b7\" name=\"files[]\" multiple disabled\n",
              "        style=\"border:none\" />\n",
              "     <output id=\"result-994da238-b182-465d-b3fa-72850c11d4b7\">\n",
              "      Upload widget is only available when the cell has been executed in the\n",
              "      current browser session. Please rerun this cell to enable.\n",
              "      </output>\n",
              "      <script>// Copyright 2017 Google LLC\n",
              "//\n",
              "// Licensed under the Apache License, Version 2.0 (the \"License\");\n",
              "// you may not use this file except in compliance with the License.\n",
              "// You may obtain a copy of the License at\n",
              "//\n",
              "//      http://www.apache.org/licenses/LICENSE-2.0\n",
              "//\n",
              "// Unless required by applicable law or agreed to in writing, software\n",
              "// distributed under the License is distributed on an \"AS IS\" BASIS,\n",
              "// WITHOUT WARRANTIES OR CONDITIONS OF ANY KIND, either express or implied.\n",
              "// See the License for the specific language governing permissions and\n",
              "// limitations under the License.\n",
              "\n",
              "/**\n",
              " * @fileoverview Helpers for google.colab Python module.\n",
              " */\n",
              "(function(scope) {\n",
              "function span(text, styleAttributes = {}) {\n",
              "  const element = document.createElement('span');\n",
              "  element.textContent = text;\n",
              "  for (const key of Object.keys(styleAttributes)) {\n",
              "    element.style[key] = styleAttributes[key];\n",
              "  }\n",
              "  return element;\n",
              "}\n",
              "\n",
              "// Max number of bytes which will be uploaded at a time.\n",
              "const MAX_PAYLOAD_SIZE = 100 * 1024;\n",
              "\n",
              "function _uploadFiles(inputId, outputId) {\n",
              "  const steps = uploadFilesStep(inputId, outputId);\n",
              "  const outputElement = document.getElementById(outputId);\n",
              "  // Cache steps on the outputElement to make it available for the next call\n",
              "  // to uploadFilesContinue from Python.\n",
              "  outputElement.steps = steps;\n",
              "\n",
              "  return _uploadFilesContinue(outputId);\n",
              "}\n",
              "\n",
              "// This is roughly an async generator (not supported in the browser yet),\n",
              "// where there are multiple asynchronous steps and the Python side is going\n",
              "// to poll for completion of each step.\n",
              "// This uses a Promise to block the python side on completion of each step,\n",
              "// then passes the result of the previous step as the input to the next step.\n",
              "function _uploadFilesContinue(outputId) {\n",
              "  const outputElement = document.getElementById(outputId);\n",
              "  const steps = outputElement.steps;\n",
              "\n",
              "  const next = steps.next(outputElement.lastPromiseValue);\n",
              "  return Promise.resolve(next.value.promise).then((value) => {\n",
              "    // Cache the last promise value to make it available to the next\n",
              "    // step of the generator.\n",
              "    outputElement.lastPromiseValue = value;\n",
              "    return next.value.response;\n",
              "  });\n",
              "}\n",
              "\n",
              "/**\n",
              " * Generator function which is called between each async step of the upload\n",
              " * process.\n",
              " * @param {string} inputId Element ID of the input file picker element.\n",
              " * @param {string} outputId Element ID of the output display.\n",
              " * @return {!Iterable<!Object>} Iterable of next steps.\n",
              " */\n",
              "function* uploadFilesStep(inputId, outputId) {\n",
              "  const inputElement = document.getElementById(inputId);\n",
              "  inputElement.disabled = false;\n",
              "\n",
              "  const outputElement = document.getElementById(outputId);\n",
              "  outputElement.innerHTML = '';\n",
              "\n",
              "  const pickedPromise = new Promise((resolve) => {\n",
              "    inputElement.addEventListener('change', (e) => {\n",
              "      resolve(e.target.files);\n",
              "    });\n",
              "  });\n",
              "\n",
              "  const cancel = document.createElement('button');\n",
              "  inputElement.parentElement.appendChild(cancel);\n",
              "  cancel.textContent = 'Cancel upload';\n",
              "  const cancelPromise = new Promise((resolve) => {\n",
              "    cancel.onclick = () => {\n",
              "      resolve(null);\n",
              "    };\n",
              "  });\n",
              "\n",
              "  // Wait for the user to pick the files.\n",
              "  const files = yield {\n",
              "    promise: Promise.race([pickedPromise, cancelPromise]),\n",
              "    response: {\n",
              "      action: 'starting',\n",
              "    }\n",
              "  };\n",
              "\n",
              "  cancel.remove();\n",
              "\n",
              "  // Disable the input element since further picks are not allowed.\n",
              "  inputElement.disabled = true;\n",
              "\n",
              "  if (!files) {\n",
              "    return {\n",
              "      response: {\n",
              "        action: 'complete',\n",
              "      }\n",
              "    };\n",
              "  }\n",
              "\n",
              "  for (const file of files) {\n",
              "    const li = document.createElement('li');\n",
              "    li.append(span(file.name, {fontWeight: 'bold'}));\n",
              "    li.append(span(\n",
              "        `(${file.type || 'n/a'}) - ${file.size} bytes, ` +\n",
              "        `last modified: ${\n",
              "            file.lastModifiedDate ? file.lastModifiedDate.toLocaleDateString() :\n",
              "                                    'n/a'} - `));\n",
              "    const percent = span('0% done');\n",
              "    li.appendChild(percent);\n",
              "\n",
              "    outputElement.appendChild(li);\n",
              "\n",
              "    const fileDataPromise = new Promise((resolve) => {\n",
              "      const reader = new FileReader();\n",
              "      reader.onload = (e) => {\n",
              "        resolve(e.target.result);\n",
              "      };\n",
              "      reader.readAsArrayBuffer(file);\n",
              "    });\n",
              "    // Wait for the data to be ready.\n",
              "    let fileData = yield {\n",
              "      promise: fileDataPromise,\n",
              "      response: {\n",
              "        action: 'continue',\n",
              "      }\n",
              "    };\n",
              "\n",
              "    // Use a chunked sending to avoid message size limits. See b/62115660.\n",
              "    let position = 0;\n",
              "    do {\n",
              "      const length = Math.min(fileData.byteLength - position, MAX_PAYLOAD_SIZE);\n",
              "      const chunk = new Uint8Array(fileData, position, length);\n",
              "      position += length;\n",
              "\n",
              "      const base64 = btoa(String.fromCharCode.apply(null, chunk));\n",
              "      yield {\n",
              "        response: {\n",
              "          action: 'append',\n",
              "          file: file.name,\n",
              "          data: base64,\n",
              "        },\n",
              "      };\n",
              "\n",
              "      let percentDone = fileData.byteLength === 0 ?\n",
              "          100 :\n",
              "          Math.round((position / fileData.byteLength) * 100);\n",
              "      percent.textContent = `${percentDone}% done`;\n",
              "\n",
              "    } while (position < fileData.byteLength);\n",
              "  }\n",
              "\n",
              "  // All done.\n",
              "  yield {\n",
              "    response: {\n",
              "      action: 'complete',\n",
              "    }\n",
              "  };\n",
              "}\n",
              "\n",
              "scope.google = scope.google || {};\n",
              "scope.google.colab = scope.google.colab || {};\n",
              "scope.google.colab._files = {\n",
              "  _uploadFiles,\n",
              "  _uploadFilesContinue,\n",
              "};\n",
              "})(self);\n",
              "</script> "
            ]
          },
          "metadata": {}
        },
        {
          "output_type": "stream",
          "name": "stdout",
          "text": [
            "Saving kaggle.json to kaggle.json\n"
          ]
        },
        {
          "output_type": "execute_result",
          "data": {
            "text/plain": [
              "{'kaggle.json': b'{\"username\":\"tamerlanabaideldinov\",\"key\":\"459d5b4b4de497da9439f3d1c42ff05e\"}'}"
            ]
          },
          "metadata": {},
          "execution_count": 4
        }
      ]
    },
    {
      "cell_type": "code",
      "source": [
        "!mkdir -p ~/.kaggle\n",
        "!cp kaggle.json ~/.kaggle/"
      ],
      "metadata": {
        "id": "9ltXgmnE_AjI"
      },
      "execution_count": 5,
      "outputs": []
    },
    {
      "cell_type": "code",
      "source": [
        "!kaggle competitions download -c dogs-vs-cats-redux-kernels-edition"
      ],
      "metadata": {
        "colab": {
          "base_uri": "https://localhost:8080/"
        },
        "id": "7Ygyow4lpz7K",
        "outputId": "afa7d76e-f4f6-449d-ab85-968a7d8799cd"
      },
      "execution_count": 6,
      "outputs": [
        {
          "output_type": "stream",
          "name": "stdout",
          "text": [
            "Warning: Your Kaggle API key is readable by other users on this system! To fix this, you can run 'chmod 600 /root/.kaggle/kaggle.json'\n",
            "Downloading dogs-vs-cats-redux-kernels-edition.zip to /content\n",
            " 99% 805M/814M [00:03<00:00, 283MB/s]\n",
            "100% 814M/814M [00:03<00:00, 260MB/s]\n"
          ]
        }
      ]
    },
    {
      "cell_type": "markdown",
      "source": [
        "Then, we need to unzip the dataset and its contents to gain access to images of cats and dogs."
      ],
      "metadata": {
        "id": "p0He1Iasf7Nf"
      }
    },
    {
      "cell_type": "code",
      "source": [
        "import zipfile\n",
        "zip_ref = zipfile.ZipFile('/content/dogs-vs-cats-redux-kernels-edition.zip', 'r')\n",
        "zip_ref.extractall('/content')\n",
        "zip_ref.close()"
      ],
      "metadata": {
        "id": "JhAIcPBc76oP"
      },
      "execution_count": 7,
      "outputs": []
    },
    {
      "cell_type": "code",
      "source": [
        "zip_ref = zipfile.ZipFile('train.zip', 'r')\n",
        "zip_ref.extractall('/content/train')\n",
        "zip_ref.close()"
      ],
      "metadata": {
        "id": "GUDkdbxX761s"
      },
      "execution_count": 8,
      "outputs": []
    },
    {
      "cell_type": "code",
      "source": [
        "zip_ref = zipfile.ZipFile('/content/test.zip', 'r')\n",
        "zip_ref.extractall('/content/test')\n",
        "zip_ref.close()"
      ],
      "metadata": {
        "id": "dRq_DVNNp7T-"
      },
      "execution_count": 9,
      "outputs": []
    },
    {
      "cell_type": "markdown",
      "source": [
        "Now we import the necessary libraries for building a CNN model."
      ],
      "metadata": {
        "id": "SVB-gBCRghil"
      }
    },
    {
      "cell_type": "code",
      "source": [
        "import tensorflow as tf\n",
        "from tensorflow import keras\n",
        "from keras import Sequential\n",
        "from keras.layers import Dense,Conv2D,MaxPooling2D,Flatten,BatchNormalization,Dropout\n",
        "from keras.preprocessing import image\n",
        "from glob import glob\n",
        "import cv2, os\n",
        "import numpy as np\n",
        "import matplotlib.pyplot as plt\n",
        "import csv"
      ],
      "metadata": {
        "id": "HLjhKoPuqLL1"
      },
      "execution_count": 30,
      "outputs": []
    },
    {
      "cell_type": "markdown",
      "source": [
        "Initialize the path that contains the training images for further use and arrays for images themselves and their corresponding labels."
      ],
      "metadata": {
        "id": "46ityDWUgr64"
      }
    },
    {
      "cell_type": "code",
      "source": [
        "path = '/content/train/train'\n",
        "\n",
        "dogs, cats = [], []\n",
        "y_dogs, y_cats = [], []"
      ],
      "metadata": {
        "id": "Pk1GpH7wOpMm"
      },
      "execution_count": 11,
      "outputs": []
    },
    {
      "cell_type": "markdown",
      "source": [
        "Load the images into arrays based on the names within the file."
      ],
      "metadata": {
        "id": "mPb0kmx8g5PW"
      }
    },
    {
      "cell_type": "code",
      "source": [
        "def load_dogs():\n",
        "    dog_path = os.path.join(path, 'dog*')\n",
        "    for dog_img in glob(dog_path):\n",
        "        dog = cv2.imread(dog_img)\n",
        "        dog = cv2.cvtColor(dog, cv2.COLOR_BGR2GRAY)\n",
        "        dog = cv2.resize(dog, (96, 96))\n",
        "        dog = image.img_to_array(dog)\n",
        "        dogs.append(dog)"
      ],
      "metadata": {
        "id": "2jCCh5A2O2-m"
      },
      "execution_count": 15,
      "outputs": []
    },
    {
      "cell_type": "code",
      "source": [
        "def load_cats():\n",
        "    cat_path = os.path.join(path, 'cat*')\n",
        "    for cat_img in glob(cat_path):\n",
        "        cat = cv2.imread(cat_img)\n",
        "        cat = cv2.cvtColor(cat, cv2.COLOR_BGR2GRAY)\n",
        "        cat = cv2.resize(cat, (96, 96))\n",
        "        cat = image.img_to_array(cat)\n",
        "        cats.append(cat)"
      ],
      "metadata": {
        "id": "TN4Bt1Z5PJQP"
      },
      "execution_count": 16,
      "outputs": []
    },
    {
      "cell_type": "code",
      "source": [
        "load_dogs()\n",
        "load_cats()"
      ],
      "metadata": {
        "id": "NOTHgif2PQeg"
      },
      "execution_count": 17,
      "outputs": []
    },
    {
      "cell_type": "markdown",
      "source": [
        "Just to be sure, we check the sizes of the generated arrays with images."
      ],
      "metadata": {
        "id": "1oVI0pr1hAmZ"
      }
    },
    {
      "cell_type": "code",
      "source": [
        "print('Lenght of our dogs array: {}\\nLenght of our cats array: {}'.format(len(dogs),len(cats)))"
      ],
      "metadata": {
        "id": "7x7HWSKxPanA",
        "outputId": "6913eece-eb82-4464-fb93-376c9a557463",
        "colab": {
          "base_uri": "https://localhost:8080/"
        }
      },
      "execution_count": 18,
      "outputs": [
        {
          "output_type": "stream",
          "name": "stdout",
          "text": [
            "Lenght of our dogs array: 12500\n",
            "Lenght of our cats array: 12500\n"
          ]
        }
      ]
    },
    {
      "cell_type": "markdown",
      "source": [
        "Generate the labels for the dataset based on the description in the competition"
      ],
      "metadata": {
        "id": "44nfpt-MhI7X"
      }
    },
    {
      "cell_type": "code",
      "source": [
        "classes = ['dog', 'cat']"
      ],
      "metadata": {
        "id": "MsU-coY_TFfk"
      },
      "execution_count": 19,
      "outputs": []
    },
    {
      "cell_type": "code",
      "source": [
        "y_dogs = [1 for item in enumerate(dogs)]\n",
        "y_cats = [0 for item in enumerate(cats)]"
      ],
      "metadata": {
        "id": "VuyZfj6ATQx9"
      },
      "execution_count": 20,
      "outputs": []
    },
    {
      "cell_type": "code",
      "source": [
        "print('Len of dogs labels: {}\\nLen of cats labels: {}'.format(len(y_dogs), len(y_cats)))"
      ],
      "metadata": {
        "id": "kW_Ayhs9TVrU",
        "outputId": "cd5fa122-517c-4d73-fabf-6985cafaefe8",
        "colab": {
          "base_uri": "https://localhost:8080/"
        }
      },
      "execution_count": 21,
      "outputs": [
        {
          "output_type": "stream",
          "name": "stdout",
          "text": [
            "Len of dogs labels: 12500\n",
            "Len of cats labels: 12500\n"
          ]
        }
      ]
    },
    {
      "cell_type": "markdown",
      "source": [
        "Convert the arrays and normalize the images for the input."
      ],
      "metadata": {
        "id": "fipvFdbThjim"
      }
    },
    {
      "cell_type": "code",
      "source": [
        "dogs = np.asarray(dogs).astype('float32')\n",
        "cats = np.asarray(cats).astype('float32')\n",
        "y_dogs = np.asarray(y_dogs).astype('int32')\n",
        "y_cats = np.asarray(y_cats).astype('int32')\n",
        "dogs /= 255\n",
        "cats /= 255"
      ],
      "metadata": {
        "id": "kalb7pkHUXY2"
      },
      "execution_count": 22,
      "outputs": []
    },
    {
      "cell_type": "code",
      "source": [
        "X = np.concatenate((dogs,cats), axis=0)\n",
        "y = np.concatenate((y_dogs, y_cats), axis=0)"
      ],
      "metadata": {
        "id": "WQU0gxLWUdj9"
      },
      "execution_count": 23,
      "outputs": []
    },
    {
      "cell_type": "markdown",
      "source": [
        "When the preprocessing is finished, we can start to build our CNN model with 3 filters of kernel size = 2x2 and stride = 2, followed by 2 Fully Connected layers with 128 and 64 nodes respectively. The input is of size 96x96 with 1 grayscale channel. Every convolutional and fully connected layer uses a ReLu function that ensures non-linearity. The output layer was meant to use a softmax function, but in binary classification it will be equivalent to sigmoid, so we chose the latter instead."
      ],
      "metadata": {
        "id": "Sq_Zj0LRhxRw"
      }
    },
    {
      "cell_type": "code",
      "source": [
        "model = Sequential()\n",
        "\n",
        "model.add(Conv2D(32,kernel_size=(3,3),padding='valid',activation='relu',input_shape=(96,96,1)))\n",
        "model.add(BatchNormalization())\n",
        "model.add(MaxPooling2D(pool_size=(2,2),strides=2,padding='valid'))\n",
        "\n",
        "model.add(Conv2D(64,kernel_size=(3,3),padding='valid',activation='relu'))\n",
        "model.add(BatchNormalization())\n",
        "model.add(MaxPooling2D(pool_size=(2,2),strides=2,padding='valid'))\n",
        "\n",
        "model.add(Conv2D(128,kernel_size=(3,3),padding='valid',activation='relu'))\n",
        "model.add(BatchNormalization())\n",
        "model.add(MaxPooling2D(pool_size=(2,2),strides=2,padding='valid'))\n",
        "\n",
        "model.add(Flatten())\n",
        "\n",
        "model.add(Dense(128,activation='relu'))\n",
        "model.add(Dropout(0.1))\n",
        "model.add(Dense(64,activation='relu'))\n",
        "model.add(Dropout(0.1))\n",
        "model.add(Dense(1,activation='sigmoid'))"
      ],
      "metadata": {
        "id": "_FcGcmkescVi"
      },
      "execution_count": 25,
      "outputs": []
    },
    {
      "cell_type": "markdown",
      "source": [
        "A short summary of the model:"
      ],
      "metadata": {
        "id": "BuPGsXVujfs2"
      }
    },
    {
      "cell_type": "code",
      "source": [
        "model.summary()"
      ],
      "metadata": {
        "colab": {
          "base_uri": "https://localhost:8080/"
        },
        "id": "7aJZyq2Ltdno",
        "outputId": "c12ef93b-f5a4-47b8-cc11-c78d44a467ce"
      },
      "execution_count": 26,
      "outputs": [
        {
          "output_type": "stream",
          "name": "stdout",
          "text": [
            "Model: \"sequential_1\"\n",
            "_________________________________________________________________\n",
            " Layer (type)                Output Shape              Param #   \n",
            "=================================================================\n",
            " conv2d_3 (Conv2D)           (None, 94, 94, 32)        320       \n",
            "                                                                 \n",
            " batch_normalization_3 (Bat  (None, 94, 94, 32)        128       \n",
            " chNormalization)                                                \n",
            "                                                                 \n",
            " max_pooling2d_3 (MaxPoolin  (None, 47, 47, 32)        0         \n",
            " g2D)                                                            \n",
            "                                                                 \n",
            " conv2d_4 (Conv2D)           (None, 45, 45, 64)        18496     \n",
            "                                                                 \n",
            " batch_normalization_4 (Bat  (None, 45, 45, 64)        256       \n",
            " chNormalization)                                                \n",
            "                                                                 \n",
            " max_pooling2d_4 (MaxPoolin  (None, 22, 22, 64)        0         \n",
            " g2D)                                                            \n",
            "                                                                 \n",
            " conv2d_5 (Conv2D)           (None, 20, 20, 128)       73856     \n",
            "                                                                 \n",
            " batch_normalization_5 (Bat  (None, 20, 20, 128)       512       \n",
            " chNormalization)                                                \n",
            "                                                                 \n",
            " max_pooling2d_5 (MaxPoolin  (None, 10, 10, 128)       0         \n",
            " g2D)                                                            \n",
            "                                                                 \n",
            " flatten_1 (Flatten)         (None, 12800)             0         \n",
            "                                                                 \n",
            " dense_3 (Dense)             (None, 128)               1638528   \n",
            "                                                                 \n",
            " dropout_2 (Dropout)         (None, 128)               0         \n",
            "                                                                 \n",
            " dense_4 (Dense)             (None, 64)                8256      \n",
            "                                                                 \n",
            " dropout_3 (Dropout)         (None, 64)                0         \n",
            "                                                                 \n",
            " dense_5 (Dense)             (None, 1)                 65        \n",
            "                                                                 \n",
            "=================================================================\n",
            "Total params: 1740417 (6.64 MB)\n",
            "Trainable params: 1739969 (6.64 MB)\n",
            "Non-trainable params: 448 (1.75 KB)\n",
            "_________________________________________________________________\n"
          ]
        }
      ]
    },
    {
      "cell_type": "markdown",
      "source": [
        "Compile the model using the Stochastic Gradient Descent as optimizer and estimate loss using a binary cross-entropy."
      ],
      "metadata": {
        "id": "hrcAmL7mjl0r"
      }
    },
    {
      "cell_type": "code",
      "source": [
        "model.compile(optimizer='SGD',loss='binary_crossentropy',metrics=['accuracy'])"
      ],
      "metadata": {
        "id": "SL-E5k_5tf9N"
      },
      "execution_count": 27,
      "outputs": []
    },
    {
      "cell_type": "markdown",
      "source": [
        "After experimenting, we decided to add an Early Stopping optimization that monitors validation accuracy and has a patience of 4 epochs in order to avoid overfitting. Validation portion is set to be 20%."
      ],
      "metadata": {
        "id": "3coIV2k4j0wQ"
      }
    },
    {
      "cell_type": "code",
      "source": [
        "callback = keras.callbacks.EarlyStopping(monitor='val_accuracy', patience=4)\n",
        "history = model.fit(X, y, epochs=30, callbacks=[callback], validation_split=.2)"
      ],
      "metadata": {
        "colab": {
          "base_uri": "https://localhost:8080/"
        },
        "id": "HHBFNFHCtzLu",
        "outputId": "f31ee7ea-412a-4ef1-8170-42943f612e8f"
      },
      "execution_count": 28,
      "outputs": [
        {
          "output_type": "stream",
          "name": "stdout",
          "text": [
            "Epoch 1/30\n",
            "625/625 [==============================] - 22s 14ms/step - loss: 0.5871 - accuracy: 0.6905 - val_loss: 0.8778 - val_accuracy: 0.3832\n",
            "Epoch 2/30\n",
            "625/625 [==============================] - 8s 13ms/step - loss: 0.4792 - accuracy: 0.7724 - val_loss: 1.0102 - val_accuracy: 0.4112\n",
            "Epoch 3/30\n",
            "625/625 [==============================] - 8s 13ms/step - loss: 0.4120 - accuracy: 0.8109 - val_loss: 0.8604 - val_accuracy: 0.4950\n",
            "Epoch 4/30\n",
            "625/625 [==============================] - 8s 13ms/step - loss: 0.3580 - accuracy: 0.8374 - val_loss: 0.6994 - val_accuracy: 0.6616\n",
            "Epoch 5/30\n",
            "625/625 [==============================] - 9s 14ms/step - loss: 0.3000 - accuracy: 0.8705 - val_loss: 0.6370 - val_accuracy: 0.7088\n",
            "Epoch 6/30\n",
            "625/625 [==============================] - 8s 13ms/step - loss: 0.2351 - accuracy: 0.9027 - val_loss: 0.7805 - val_accuracy: 0.6680\n",
            "Epoch 7/30\n",
            "625/625 [==============================] - 9s 14ms/step - loss: 0.1800 - accuracy: 0.9260 - val_loss: 1.4873 - val_accuracy: 0.4934\n",
            "Epoch 8/30\n",
            "625/625 [==============================] - 9s 15ms/step - loss: 0.1284 - accuracy: 0.9498 - val_loss: 0.8591 - val_accuracy: 0.7286\n",
            "Epoch 9/30\n",
            "625/625 [==============================] - 8s 13ms/step - loss: 0.0913 - accuracy: 0.9669 - val_loss: 0.5357 - val_accuracy: 0.7860\n",
            "Epoch 10/30\n",
            "625/625 [==============================] - 8s 13ms/step - loss: 0.0714 - accuracy: 0.9745 - val_loss: 0.8408 - val_accuracy: 0.7554\n",
            "Epoch 11/30\n",
            "625/625 [==============================] - 9s 14ms/step - loss: 0.0533 - accuracy: 0.9813 - val_loss: 0.7107 - val_accuracy: 0.7734\n",
            "Epoch 12/30\n",
            "625/625 [==============================] - 8s 13ms/step - loss: 0.0394 - accuracy: 0.9869 - val_loss: 1.3620 - val_accuracy: 0.6962\n",
            "Epoch 13/30\n",
            "625/625 [==============================] - 8s 13ms/step - loss: 0.0337 - accuracy: 0.9894 - val_loss: 1.3305 - val_accuracy: 0.6922\n"
          ]
        }
      ]
    },
    {
      "cell_type": "markdown",
      "source": [
        "Evaluation of the model shows a decent accuracy."
      ],
      "metadata": {
        "id": "vS_nPCOikgY4"
      }
    },
    {
      "cell_type": "code",
      "source": [
        "scores = model.evaluate(X, y, verbose=2)\n",
        "print('Model Accuracy\\n{}: {}%'.format(model.metrics_names[1], scores[1]*100))"
      ],
      "metadata": {
        "id": "E6n31TxmY3ev",
        "outputId": "9185aebe-5159-4638-f1fb-2551fdab3c1e",
        "colab": {
          "base_uri": "https://localhost:8080/"
        }
      },
      "execution_count": 29,
      "outputs": [
        {
          "output_type": "stream",
          "name": "stdout",
          "text": [
            "782/782 - 3s - loss: 0.2970 - accuracy: 0.9272 - 3s/epoch - 4ms/step\n",
            "Model Accuracy\n",
            "accuracy: 92.72400140762329%\n"
          ]
        }
      ]
    },
    {
      "cell_type": "markdown",
      "source": [
        "The block below is used to predict the labels on a test dataset and write it into a csv file."
      ],
      "metadata": {
        "id": "sLhWw0Odu6B5"
      }
    },
    {
      "cell_type": "code",
      "source": [
        "path = '/content/test/test/1*'"
      ],
      "metadata": {
        "id": "1NgUTaQ4n3XU"
      },
      "execution_count": 40,
      "outputs": []
    },
    {
      "cell_type": "code",
      "source": [
        "df = []\n",
        "for df_img in glob(path):\n",
        "    dfsample = cv2.imread(df_img)\n",
        "    dfsample = cv2.cvtColor(dfsample, cv2.COLOR_BGR2GRAY)\n",
        "    dfsample = cv2.resize(dfsample, (96, 96))\n",
        "    dfsample = image.img_to_array(dfsample)\n",
        "    df.append(dfsample)"
      ],
      "metadata": {
        "id": "BbIbQKV6n6MS"
      },
      "execution_count": 41,
      "outputs": []
    },
    {
      "cell_type": "code",
      "source": [
        "df = np.asarray(df).astype('float32')\n",
        "df /= 255"
      ],
      "metadata": {
        "id": "Ck7TRv3zok0j"
      },
      "execution_count": 42,
      "outputs": []
    },
    {
      "cell_type": "code",
      "source": [
        "results = model.predict(df)\n",
        "results = np.asarray(results).astype('float64')\n",
        "with open('result.csv', 'w', newline='') as file:\n",
        "    writer = csv.writer(file)\n",
        "    field = [\"id\", \"label\"]\n",
        "\n",
        "    writer.writerow(field)\n",
        "    for i in range(len(results)):\n",
        "      writer.writerow([i, results[i]])"
      ],
      "metadata": {
        "colab": {
          "base_uri": "https://localhost:8080/"
        },
        "id": "Fvcvky2AmjQq",
        "outputId": "62cdd88a-ca59-45b5-e1d4-374188b5a54c"
      },
      "execution_count": 51,
      "outputs": [
        {
          "output_type": "stream",
          "name": "stdout",
          "text": [
            "113/113 [==============================] - 0s 4ms/step\n"
          ]
        }
      ]
    },
    {
      "cell_type": "code",
      "source": [
        "from google.colab import files\n",
        "files.download('result.csv')"
      ],
      "metadata": {
        "colab": {
          "base_uri": "https://localhost:8080/",
          "height": 17
        },
        "id": "Pbqsun0XsrrS",
        "outputId": "a7d30df1-8fc8-48ec-d84f-158c719fa83b"
      },
      "execution_count": 52,
      "outputs": [
        {
          "output_type": "display_data",
          "data": {
            "text/plain": [
              "<IPython.core.display.Javascript object>"
            ],
            "application/javascript": [
              "\n",
              "    async function download(id, filename, size) {\n",
              "      if (!google.colab.kernel.accessAllowed) {\n",
              "        return;\n",
              "      }\n",
              "      const div = document.createElement('div');\n",
              "      const label = document.createElement('label');\n",
              "      label.textContent = `Downloading \"${filename}\": `;\n",
              "      div.appendChild(label);\n",
              "      const progress = document.createElement('progress');\n",
              "      progress.max = size;\n",
              "      div.appendChild(progress);\n",
              "      document.body.appendChild(div);\n",
              "\n",
              "      const buffers = [];\n",
              "      let downloaded = 0;\n",
              "\n",
              "      const channel = await google.colab.kernel.comms.open(id);\n",
              "      // Send a message to notify the kernel that we're ready.\n",
              "      channel.send({})\n",
              "\n",
              "      for await (const message of channel.messages) {\n",
              "        // Send a message to notify the kernel that we're ready.\n",
              "        channel.send({})\n",
              "        if (message.buffers) {\n",
              "          for (const buffer of message.buffers) {\n",
              "            buffers.push(buffer);\n",
              "            downloaded += buffer.byteLength;\n",
              "            progress.value = downloaded;\n",
              "          }\n",
              "        }\n",
              "      }\n",
              "      const blob = new Blob(buffers, {type: 'application/binary'});\n",
              "      const a = document.createElement('a');\n",
              "      a.href = window.URL.createObjectURL(blob);\n",
              "      a.download = filename;\n",
              "      div.appendChild(a);\n",
              "      a.click();\n",
              "      div.remove();\n",
              "    }\n",
              "  "
            ]
          },
          "metadata": {}
        },
        {
          "output_type": "display_data",
          "data": {
            "text/plain": [
              "<IPython.core.display.Javascript object>"
            ],
            "application/javascript": [
              "download(\"download_6ed8e62d-ff4d-4095-88d2-5d30bf6e7a3e\", \"result.csv\", 67898)"
            ]
          },
          "metadata": {}
        }
      ]
    },
    {
      "cell_type": "markdown",
      "source": [
        "Below are some graphs that we used to visualize the training process and pinpoint the flaws."
      ],
      "metadata": {
        "id": "plBxirTakxVI"
      }
    },
    {
      "cell_type": "code",
      "source": [
        "plt.plot(history.history['accuracy'],color='red',label='train')\n",
        "plt.plot(history.history['val_accuracy'],color='blue',label='validation')\n",
        "plt.legend()\n",
        "plt.show()"
      ],
      "metadata": {
        "colab": {
          "base_uri": "https://localhost:8080/",
          "height": 430
        },
        "id": "VSm7TIfO7Ve0",
        "outputId": "a71de5d9-81bd-4cf2-b69e-34a8a5836a62"
      },
      "execution_count": null,
      "outputs": [
        {
          "output_type": "display_data",
          "data": {
            "text/plain": [
              "<Figure size 640x480 with 1 Axes>"
            ],
            "image/png": "[encoded data removed]"
          },
          "metadata": {}
        }
      ]
    },
    {
      "cell_type": "code",
      "source": [
        "plt.plot(history.history['loss'],color='red',label='train loss')\n",
        "plt.plot(history.history['val_loss'],color='blue',label='validation loss')\n",
        "plt.legend()\n",
        "plt.show()"
      ],
      "metadata": {
        "colab": {
          "base_uri": "https://localhost:8080/",
          "height": 430
        },
        "id": "wgG1voHM2rlf",
        "outputId": "5d076cdb-9440-4260-b984-18c13d5a44a0"
      },
      "execution_count": 50,
      "outputs": [
        {
          "output_type": "display_data",
          "data": {
            "text/plain": [
              "<Figure size 640x480 with 1 Axes>"
            ],
            "image/png": "[encoded data removed]"
          },
          "metadata": {}
        }
      ]
    }
  ]
}
